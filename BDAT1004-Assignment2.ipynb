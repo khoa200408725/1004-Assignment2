{
 "cells": [
  {
   "cell_type": "code",
   "execution_count": null,
   "metadata": {},
   "outputs": [],
   "source": [
    "#Exercise 2 - Chap 2\n",
    "print (\"Enter your name: \")\n",
    "yourName = input()\n",
    "print (\"Hello \"+yourName)"
   ]
  },
  {
   "cell_type": "code",
   "execution_count": null,
   "metadata": {},
   "outputs": [],
   "source": [
    "#Ex 3 - Chap 2\n",
    "print (\"Enter hours: \")\n",
    "hours = int(input())\n",
    "print (\"Enter rate: \")\n",
    "rate = float(input())\n",
    "print (\"Pay = \"+ str(hours*rate))"
   ]
  },
  {
   "cell_type": "code",
   "execution_count": null,
   "metadata": {},
   "outputs": [],
   "source": [
    "#Ex 4 - Chap 2\n",
    "width = 17\n",
    "height = 12.0\n",
    "a = width//2\n",
    "b = width/2.0\n",
    "c = height/3\n",
    "d = 1 + 2*5\n",
    "print (\"width//2 = \"+str(a))\n",
    "print (type(a))\n",
    "print (\"width/2.0 =\"+str(b))\n",
    "print (type(b))\n",
    "print (\"height/3 = \"+str(c))\n",
    "print (type(c))\n",
    "print (\"1 + 2*5 = \"+str(d))\n",
    "print (type(d))"
   ]
  },
  {
   "cell_type": "code",
   "execution_count": null,
   "metadata": {},
   "outputs": [],
   "source": [
    "#Ex 5 - Chap 2\n",
    "print (\"Type Celsius temperature: \")\n",
    "celsius = float(input())\n",
    "print (\"Fahrenheit temperature = \"+str(celsius * 1.8 +32))"
   ]
  },
  {
   "cell_type": "code",
   "execution_count": null,
   "metadata": {},
   "outputs": [],
   "source": [
    "#Ex 1 - Chap 3\n",
    "print (\"Enter hours: \")\n",
    "hours = int(input())\n",
    "print (\"Enter rate: \")\n",
    "rate = float(input())\n",
    "if hours>40:\n",
    "    pay = (hours-40)*rate*1.5 + 40*rate\n",
    "else:\n",
    "    pay = hours*rate\n",
    "print (\"Pay: \"+str(pay))"
   ]
  },
  {
   "cell_type": "code",
   "execution_count": null,
   "metadata": {},
   "outputs": [],
   "source": [
    "#Ex 2 - Chap 3 >> ??\n",
    "print (\"Enter hours: \")\n",
    "try:    \n",
    "    hours = int(input())\n",
    "    print (\"Enter rate: \")\n",
    "    rate = float(input())\n",
    "    if hours>40:\n",
    "        pay = (hours-40)*rate*1.5 + 40*rate\n",
    "    else:\n",
    "        pay = hours*rate\n",
    "    print (\"Pay: \"+str(pay))\n",
    "except:\n",
    "    print(\"Error, please enter numeric input\")"
   ]
  },
  {
   "cell_type": "code",
   "execution_count": 7,
   "metadata": {},
   "outputs": [
    {
     "name": "stdout",
     "output_type": "stream",
     "text": [
      "Enter score: \n",
      "a\n",
      "Bad score\n"
     ]
    }
   ],
   "source": [
    "#Ex 3 - Chap 3 >> ??\n",
    "print (\"Enter score: \")\n",
    "try:\n",
    "    score = float(input())\n",
    "    if (1>=score) and (score >=0.9):\n",
    "        print (\"A\")\n",
    "    elif (0.9>score) and (score >=0.8):\n",
    "        print (\"B\")\n",
    "    elif (0.8>score) and (score >=0.7):\n",
    "        print (\"C\")\n",
    "    elif (0.7>score) and (score >=0.6):\n",
    "        print (\"D\")\n",
    "    elif (0.6>score) and (score >=0):\n",
    "        print (\"F\")\n",
    "    else:\n",
    "        print (\"Bad score\")\n",
    "except:\n",
    "    print (\"Bad score\")\n"
   ]
  },
  {
   "cell_type": "code",
   "execution_count": null,
   "metadata": {},
   "outputs": [],
   "source": [
    "#Ex 5 - Chap 4\n",
    "def fred():\n",
    "    print(\"Zap\")\n",
    "def jane():\n",
    "    print(\"ABC\")\n",
    "jane()\n",
    "fred()\n",
    "jane()"
   ]
  },
  {
   "cell_type": "code",
   "execution_count": null,
   "metadata": {},
   "outputs": [],
   "source": [
    "#Ex 6 - Chap 4   \n",
    "def computepay(hours,rate):\n",
    "    \n",
    "    if hours>40:\n",
    "        pay = (hours-40)*rate*1.5 + 40*rate\n",
    "    else:\n",
    "        pay = hours*rate\n",
    "    print (\"Pay: \"+str(pay))\n",
    "\n",
    "try:\n",
    "    print (\"Enter hours: \")\n",
    "    hours = float(input())\n",
    "    print (\"Enter rate: \")\n",
    "    rate = float(input())\n",
    "    \n",
    "    computepay(hours,rate)\n",
    "except:\n",
    "    print(\"Invalid input\")"
   ]
  },
  {
   "cell_type": "code",
   "execution_count": 3,
   "metadata": {},
   "outputs": [
    {
     "name": "stdout",
     "output_type": "stream",
     "text": [
      "Enter score: \n",
      "1\n",
      "A\n"
     ]
    }
   ],
   "source": [
    "#Ex 7 \n",
    "def computegrade(score):\n",
    " \n",
    "    if (1>=score) and (score >=0.9):\n",
    "        print (\"A\")\n",
    "    elif (0.9>score) and (score >=0.8):\n",
    "        print (\"B\")\n",
    "    elif (0.8>score) and (score >=0.7):\n",
    "        print (\"C\")\n",
    "    elif (0.7>score) and (score >=0.6):\n",
    "        print (\"D\")\n",
    "    elif (0.6>score) and (score >=0):\n",
    "        print (\"F\")\n",
    "    else:\n",
    "        print (\"Bad score\")\n",
    "\n",
    "try:\n",
    "    print (\"Enter score: \")\n",
    "    score = float(input())\n",
    "    computegrade(score)\n",
    "except:\n",
    "    print (\"Bad score (invalid input)\")\n",
    "    "
   ]
  }
 ],
 "metadata": {
  "kernelspec": {
   "display_name": "Python 3",
   "language": "python",
   "name": "python3"
  },
  "language_info": {
   "codemirror_mode": {
    "name": "ipython",
    "version": 3
   },
   "file_extension": ".py",
   "mimetype": "text/x-python",
   "name": "python",
   "nbconvert_exporter": "python",
   "pygments_lexer": "ipython3",
   "version": "3.7.3"
  }
 },
 "nbformat": 4,
 "nbformat_minor": 2
}
